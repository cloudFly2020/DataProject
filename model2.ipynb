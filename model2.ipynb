{
 "cells": [
  {
   "cell_type": "code",
   "execution_count": 1,
   "metadata": {},
   "outputs": [],
   "source": [
    "import numpy as np\n",
    "import pandas as pd\n",
    "import matplotlib.pyplot as plt\n",
    "import seaborn as sns\n"
   ]
  },
  {
   "cell_type": "code",
   "execution_count": 4,
   "metadata": {},
   "outputs": [
    {
     "name": "stdout",
     "output_type": "stream",
     "text": [
      "(4754, 51)\n"
     ]
    },
    {
     "data": {
      "text/html": [
       "<div>\n",
       "<style scoped>\n",
       "    .dataframe tbody tr th:only-of-type {\n",
       "        vertical-align: middle;\n",
       "    }\n",
       "\n",
       "    .dataframe tbody tr th {\n",
       "        vertical-align: top;\n",
       "    }\n",
       "\n",
       "    .dataframe thead th {\n",
       "        text-align: right;\n",
       "    }\n",
       "</style>\n",
       "<table border=\"1\" class=\"dataframe\">\n",
       "  <thead>\n",
       "    <tr style=\"text-align: right;\">\n",
       "      <th></th>\n",
       "      <th>trans_day_last_12_month</th>\n",
       "      <th>take_amount_in_later_12_month_highest</th>\n",
       "      <th>history_fail_fee</th>\n",
       "      <th>latest_query_day</th>\n",
       "      <th>consume_top_time_last_6_month</th>\n",
       "      <th>trans_activity_day</th>\n",
       "      <th>loans_score</th>\n",
       "      <th>trans_days_interval_filter</th>\n",
       "      <th>latest_one_month_fail</th>\n",
       "      <th>consume_mini_time_last_1_month</th>\n",
       "      <th>...</th>\n",
       "      <th>transd_mcc</th>\n",
       "      <th>avg_price_last_12_month</th>\n",
       "      <th>apply_score</th>\n",
       "      <th>latest_three_month_apply</th>\n",
       "      <th>trans_amount_increase_rate_lately</th>\n",
       "      <th>latest_one_month_suc</th>\n",
       "      <th>history_suc_fee</th>\n",
       "      <th>first_transaction_time</th>\n",
       "      <th>rank_trad_1_month</th>\n",
       "      <th>label</th>\n",
       "    </tr>\n",
       "  </thead>\n",
       "  <tbody>\n",
       "    <tr>\n",
       "      <th>0</th>\n",
       "      <td>85.0</td>\n",
       "      <td>0</td>\n",
       "      <td>7.0</td>\n",
       "      <td>12.0</td>\n",
       "      <td>19.0</td>\n",
       "      <td>0.313</td>\n",
       "      <td>552.0</td>\n",
       "      <td>27.0</td>\n",
       "      <td>0.0</td>\n",
       "      <td>5.0</td>\n",
       "      <td>...</td>\n",
       "      <td>17.0</td>\n",
       "      <td>1020</td>\n",
       "      <td>583.0</td>\n",
       "      <td>5.0</td>\n",
       "      <td>0.90</td>\n",
       "      <td>1.0</td>\n",
       "      <td>37.0</td>\n",
       "      <td>20130817.0</td>\n",
       "      <td>0.40</td>\n",
       "      <td>1</td>\n",
       "    </tr>\n",
       "    <tr>\n",
       "      <th>1</th>\n",
       "      <td>84.0</td>\n",
       "      <td>2000</td>\n",
       "      <td>4.0</td>\n",
       "      <td>4.0</td>\n",
       "      <td>30.0</td>\n",
       "      <td>0.458</td>\n",
       "      <td>635.0</td>\n",
       "      <td>30.0</td>\n",
       "      <td>1.0</td>\n",
       "      <td>330.0</td>\n",
       "      <td>...</td>\n",
       "      <td>19.0</td>\n",
       "      <td>1210</td>\n",
       "      <td>653.0</td>\n",
       "      <td>6.0</td>\n",
       "      <td>1.28</td>\n",
       "      <td>2.0</td>\n",
       "      <td>49.0</td>\n",
       "      <td>20160402.0</td>\n",
       "      <td>0.35</td>\n",
       "      <td>0</td>\n",
       "    </tr>\n",
       "    <tr>\n",
       "      <th>2</th>\n",
       "      <td>95.0</td>\n",
       "      <td>0</td>\n",
       "      <td>2.0</td>\n",
       "      <td>2.0</td>\n",
       "      <td>68.0</td>\n",
       "      <td>0.114</td>\n",
       "      <td>633.0</td>\n",
       "      <td>68.0</td>\n",
       "      <td>1.0</td>\n",
       "      <td>0.0</td>\n",
       "      <td>...</td>\n",
       "      <td>13.0</td>\n",
       "      <td>570</td>\n",
       "      <td>654.0</td>\n",
       "      <td>5.0</td>\n",
       "      <td>1.00</td>\n",
       "      <td>1.0</td>\n",
       "      <td>2.0</td>\n",
       "      <td>20170617.0</td>\n",
       "      <td>1.00</td>\n",
       "      <td>1</td>\n",
       "    </tr>\n",
       "    <tr>\n",
       "      <th>3</th>\n",
       "      <td>82.0</td>\n",
       "      <td>2000</td>\n",
       "      <td>26.0</td>\n",
       "      <td>2.0</td>\n",
       "      <td>8.0</td>\n",
       "      <td>0.777</td>\n",
       "      <td>542.0</td>\n",
       "      <td>14.0</td>\n",
       "      <td>0.0</td>\n",
       "      <td>31700.0</td>\n",
       "      <td>...</td>\n",
       "      <td>22.0</td>\n",
       "      <td>1290</td>\n",
       "      <td>595.0</td>\n",
       "      <td>16.0</td>\n",
       "      <td>0.13</td>\n",
       "      <td>2.0</td>\n",
       "      <td>91.0</td>\n",
       "      <td>20130516.0</td>\n",
       "      <td>0.15</td>\n",
       "      <td>0</td>\n",
       "    </tr>\n",
       "    <tr>\n",
       "      <th>4</th>\n",
       "      <td>88.0</td>\n",
       "      <td>0</td>\n",
       "      <td>25.0</td>\n",
       "      <td>22.0</td>\n",
       "      <td>66.0</td>\n",
       "      <td>0.175</td>\n",
       "      <td>479.0</td>\n",
       "      <td>66.0</td>\n",
       "      <td>0.0</td>\n",
       "      <td>0.0</td>\n",
       "      <td>...</td>\n",
       "      <td>13.0</td>\n",
       "      <td>1110</td>\n",
       "      <td>541.0</td>\n",
       "      <td>8.0</td>\n",
       "      <td>0.46</td>\n",
       "      <td>0.0</td>\n",
       "      <td>36.0</td>\n",
       "      <td>20170312.0</td>\n",
       "      <td>0.65</td>\n",
       "      <td>1</td>\n",
       "    </tr>\n",
       "  </tbody>\n",
       "</table>\n",
       "<p>5 rows × 51 columns</p>\n",
       "</div>"
      ],
      "text/plain": [
       "   trans_day_last_12_month  take_amount_in_later_12_month_highest  \\\n",
       "0                     85.0                                      0   \n",
       "1                     84.0                                   2000   \n",
       "2                     95.0                                      0   \n",
       "3                     82.0                                   2000   \n",
       "4                     88.0                                      0   \n",
       "\n",
       "   history_fail_fee  latest_query_day  consume_top_time_last_6_month  \\\n",
       "0               7.0              12.0                           19.0   \n",
       "1               4.0               4.0                           30.0   \n",
       "2               2.0               2.0                           68.0   \n",
       "3              26.0               2.0                            8.0   \n",
       "4              25.0              22.0                           66.0   \n",
       "\n",
       "   trans_activity_day  loans_score  trans_days_interval_filter  \\\n",
       "0               0.313        552.0                        27.0   \n",
       "1               0.458        635.0                        30.0   \n",
       "2               0.114        633.0                        68.0   \n",
       "3               0.777        542.0                        14.0   \n",
       "4               0.175        479.0                        66.0   \n",
       "\n",
       "   latest_one_month_fail  consume_mini_time_last_1_month  ...    transd_mcc  \\\n",
       "0                    0.0                             5.0  ...          17.0   \n",
       "1                    1.0                           330.0  ...          19.0   \n",
       "2                    1.0                             0.0  ...          13.0   \n",
       "3                    0.0                         31700.0  ...          22.0   \n",
       "4                    0.0                             0.0  ...          13.0   \n",
       "\n",
       "   avg_price_last_12_month  apply_score  latest_three_month_apply  \\\n",
       "0                     1020        583.0                       5.0   \n",
       "1                     1210        653.0                       6.0   \n",
       "2                      570        654.0                       5.0   \n",
       "3                     1290        595.0                      16.0   \n",
       "4                     1110        541.0                       8.0   \n",
       "\n",
       "   trans_amount_increase_rate_lately  latest_one_month_suc  history_suc_fee  \\\n",
       "0                               0.90                   1.0             37.0   \n",
       "1                               1.28                   2.0             49.0   \n",
       "2                               1.00                   1.0              2.0   \n",
       "3                               0.13                   2.0             91.0   \n",
       "4                               0.46                   0.0             36.0   \n",
       "\n",
       "   first_transaction_time  rank_trad_1_month  label  \n",
       "0              20130817.0               0.40      1  \n",
       "1              20160402.0               0.35      0  \n",
       "2              20170617.0               1.00      1  \n",
       "3              20130516.0               0.15      0  \n",
       "4              20170312.0               0.65      1  \n",
       "\n",
       "[5 rows x 51 columns]"
      ]
     },
     "execution_count": 4,
     "metadata": {},
     "output_type": "execute_result"
    }
   ],
   "source": [
    "data=pd.read_csv(\"feature.csv\",index_col=0)\n",
    "print(data.shape)\n",
    "data.head()"
   ]
  },
  {
   "cell_type": "code",
   "execution_count": 5,
   "metadata": {},
   "outputs": [],
   "source": [
    "y=data['label']\n",
    "train=data.drop('label',axis=1)"
   ]
  },
  {
   "cell_type": "code",
   "execution_count": 7,
   "metadata": {},
   "outputs": [],
   "source": [
    "from sklearn.model_selection import train_test_split\n",
    "train_x,test_x,train_y,test_y=train_test_split(train,y,test_size=0.3,random_state=0)"
   ]
  },
  {
   "cell_type": "code",
   "execution_count": 17,
   "metadata": {},
   "outputs": [
    {
     "name": "stdout",
     "output_type": "stream",
     "text": [
      "0.6227544910179641\n",
      "0.7701471618780659\n"
     ]
    }
   ],
   "source": [
    "from sklearn.ensemble import RandomForestClassifier\n",
    "from sklearn.metrics import auc,precision_score,accuracy_score\n",
    "rf=RandomForestClassifier()\n",
    "rf.fit(train_x,train_y)\n",
    "\n",
    "pred=rf.predict(test_x)\n",
    "print(precision_score(test_y,pred))\n",
    "print(accuracy_score(test_y,pred))"
   ]
  },
  {
   "cell_type": "code",
   "execution_count": 18,
   "metadata": {},
   "outputs": [
    {
     "name": "stdout",
     "output_type": "stream",
     "text": [
      "0.6227544910179641\n",
      "0.7701471618780659\n"
     ]
    }
   ],
   "source": [
    "from lightgbm import LGBMClassifier\n",
    "lgb=LGBMClassifier(max_depth=-1,n_estimators=1000,learning_rate=0.01)\n",
    "lgb.fit(train_x,train_y)\n",
    "pred=rf.predict(test_x)\n",
    "print(precision_score(test_y,pred))\n",
    "print(accuracy_score(test_y,pred))"
   ]
  },
  {
   "cell_type": "markdown",
   "metadata": {},
   "source": [
    "任务4：记录5个模型（逻辑回归、SVM、决策树、随机森林、XGBoost）\n",
    "关于accuracy、precision，recall和F1-score、auc值的评分表格，并画出ROC曲线"
   ]
  },
  {
   "cell_type": "code",
   "execution_count": 27,
   "metadata": {},
   "outputs": [],
   "source": [
    "from sklearn.linear_model import LogisticRegression\n",
    "from sklearn.ensemble import RandomForestClassifier\n",
    "from sklearn.metrics import accuracy_score,precision_score,recall_score,f1_score,roc_curve\n",
    "from sklearn.svm import SVC\n",
    "from sklearn.tree import DecisionTreeClassifier \n",
    "from xgboost import XGBClassifier"
   ]
  },
  {
   "cell_type": "code",
   "execution_count": 29,
   "metadata": {},
   "outputs": [],
   "source": [
    "def plot_roc(labels, predict_prob):\n",
    "    false_positive_rate,true_positive_rate,thresholds=roc_curve(labels, predict_prob)\n",
    "    roc_auc=auc(false_positive_rate, true_positive_rate)\n",
    "    plt.title('ROC')\n",
    "    plt.plot(false_positive_rate,true_positive_rate,'b',label='AUC = %0.4f'% roc_auc)\n",
    "    plt.legend(loc='lower right')\n",
    "    plt.plot([0,1],[0,1],'r--')\n",
    "    plt.ylabel('TPR')\n",
    "    plt.xlabel('FPR')\n",
    "    plt.show()"
   ]
  },
  {
   "cell_type": "code",
   "execution_count": 30,
   "metadata": {},
   "outputs": [
    {
     "name": "stdout",
     "output_type": "stream",
     "text": [
      "0.0\n",
      "0.7414155571128241\n",
      "0.0\n",
      "0.0\n"
     ]
    },
    {
     "name": "stderr",
     "output_type": "stream",
     "text": [
      "d:\\ProgramData\\Anaconda3\\lib\\site-packages\\sklearn\\metrics\\classification.py:1135: UndefinedMetricWarning: Precision is ill-defined and being set to 0.0 due to no predicted samples.\n",
      "  'precision', 'predicted', average, warn_for)\n",
      "d:\\ProgramData\\Anaconda3\\lib\\site-packages\\sklearn\\metrics\\classification.py:1135: UndefinedMetricWarning: F-score is ill-defined and being set to 0.0 due to no predicted samples.\n",
      "  'precision', 'predicted', average, warn_for)\n"
     ]
    },
    {
     "data": {
      "image/png": "[encoded data removed]",
      "text/plain": [
       "<matplotlib.figure.Figure at 0x18c90554320>"
      ]
     },
     "metadata": {
      "needs_background": "light"
     },
     "output_type": "display_data"
    }
   ],
   "source": [
    "lr=LogisticRegression()\n",
    "lr.fit(train_x,train_y)\n",
    "\n",
    "pred2=lr.predict(test_x)\n",
    "print(precision_score(test_y,pred))\n",
    "print(accuracy_score(test_y,pred))\n",
    "print(recall_score(test_y,pred))\n",
    "print(f1_score(test_y,pred))\n",
    "plot_roc(test_y,pred)"
   ]
  },
  {
   "cell_type": "code",
   "execution_count": 31,
   "metadata": {},
   "outputs": [
    {
     "name": "stdout",
     "output_type": "stream",
     "text": [
      "0.0\n",
      "0.7414155571128241\n",
      "0.0\n",
      "0.0\n"
     ]
    },
    {
     "name": "stderr",
     "output_type": "stream",
     "text": [
      "d:\\ProgramData\\Anaconda3\\lib\\site-packages\\sklearn\\metrics\\classification.py:1135: UndefinedMetricWarning: Precision is ill-defined and being set to 0.0 due to no predicted samples.\n",
      "  'precision', 'predicted', average, warn_for)\n",
      "d:\\ProgramData\\Anaconda3\\lib\\site-packages\\sklearn\\metrics\\classification.py:1135: UndefinedMetricWarning: F-score is ill-defined and being set to 0.0 due to no predicted samples.\n",
      "  'precision', 'predicted', average, warn_for)\n"
     ]
    },
    {
     "data": {
      "image/png": "[encoded data removed]",
      "text/plain": [
       "<matplotlib.figure.Figure at 0x18c955cd710>"
      ]
     },
     "metadata": {
      "needs_background": "light"
     },
     "output_type": "display_data"
    }
   ],
   "source": [
    "svc=SVC()\n",
    "svc.fit(train_x,train_y)\n",
    "\n",
    "pred3=svc.predict(test_x)\n",
    "print(precision_score(test_y,pred))\n",
    "print(accuracy_score(test_y,pred))\n",
    "print(recall_score(test_y,pred))\n",
    "print(f1_score(test_y,pred))\n",
    "plot_roc(test_y,pred)"
   ]
  },
  {
   "cell_type": "code",
   "execution_count": 32,
   "metadata": {},
   "outputs": [
    {
     "name": "stdout",
     "output_type": "stream",
     "text": [
      "0.0\n",
      "0.7414155571128241\n",
      "0.0\n",
      "0.0\n"
     ]
    },
    {
     "name": "stderr",
     "output_type": "stream",
     "text": [
      "d:\\ProgramData\\Anaconda3\\lib\\site-packages\\sklearn\\metrics\\classification.py:1135: UndefinedMetricWarning: Precision is ill-defined and being set to 0.0 due to no predicted samples.\n",
      "  'precision', 'predicted', average, warn_for)\n",
      "d:\\ProgramData\\Anaconda3\\lib\\site-packages\\sklearn\\metrics\\classification.py:1135: UndefinedMetricWarning: F-score is ill-defined and being set to 0.0 due to no predicted samples.\n",
      "  'precision', 'predicted', average, warn_for)\n"
     ]
    },
    {
     "data": {
      "image/png": "[encoded data removed]",
      "text/plain": [
       "<matplotlib.figure.Figure at 0x18c957ca240>"
      ]
     },
     "metadata": {
      "needs_background": "light"
     },
     "output_type": "display_data"
    }
   ],
   "source": [
    "dt=DecisionTreeClassifier()\n",
    "dt.fit(train_x,train_y)\n",
    "\n",
    "pred4=dt.predict(test_x)\n",
    "print(precision_score(test_y,pred))\n",
    "print(accuracy_score(test_y,pred))\n",
    "print(recall_score(test_y,pred))\n",
    "print(f1_score(test_y,pred))\n",
    "plot_roc(test_y,pred)"
   ]
  },
  {
   "cell_type": "code",
   "execution_count": 33,
   "metadata": {},
   "outputs": [
    {
     "name": "stderr",
     "output_type": "stream",
     "text": [
      "d:\\ProgramData\\Anaconda3\\lib\\site-packages\\sklearn\\metrics\\classification.py:1135: UndefinedMetricWarning: Precision is ill-defined and being set to 0.0 due to no predicted samples.\n",
      "  'precision', 'predicted', average, warn_for)\n",
      "d:\\ProgramData\\Anaconda3\\lib\\site-packages\\sklearn\\metrics\\classification.py:1135: UndefinedMetricWarning: F-score is ill-defined and being set to 0.0 due to no predicted samples.\n",
      "  'precision', 'predicted', average, warn_for)\n"
     ]
    },
    {
     "name": "stdout",
     "output_type": "stream",
     "text": [
      "0.0\n",
      "0.7414155571128241\n",
      "0.0\n",
      "0.0\n"
     ]
    },
    {
     "data": {
      "image/png": "[encoded data removed]",
      "text/plain": [
       "<matplotlib.figure.Figure at 0x18c95b84e80>"
      ]
     },
     "metadata": {
      "needs_background": "light"
     },
     "output_type": "display_data"
    }
   ],
   "source": [
    "\n",
    "xgb=XGBClassifier()\n",
    "xgb.fit(train_x,train_y)\n",
    "\n",
    "pred5=xgb.predict(test_x)\n",
    "print(precision_score(test_y,pred))\n",
    "print(accuracy_score(test_y,pred))\n",
    "print(recall_score(test_y,pred))\n",
    "print(f1_score(test_y,pred))\n",
    "plot_roc(test_y,pred)"
   ]
  },
  {
   "cell_type": "code",
   "execution_count": null,
   "metadata": {},
   "outputs": [],
   "source": []
  },
  {
   "cell_type": "code",
   "execution_count": null,
   "metadata": {},
   "outputs": [],
   "source": []
  }
 ],
 "metadata": {
  "kernelspec": {
   "display_name": "Python 3",
   "language": "python",
   "name": "python3"
  },
  "language_info": {
   "codemirror_mode": {
    "name": "ipython",
    "version": 3
   },
   "file_extension": ".py",
   "mimetype": "text/x-python",
   "name": "python",
   "nbconvert_exporter": "python",
   "pygments_lexer": "ipython3",
   "version": "3.6.4"
  }
 },
 "nbformat": 4,
 "nbformat_minor": 2
}
